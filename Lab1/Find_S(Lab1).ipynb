{
  "nbformat": 4,
  "nbformat_minor": 0,
  "metadata": {
    "colab": {
      "name": "Find-S(Lab1).ipynb",
      "provenance": [],
      "collapsed_sections": [],
      "authorship_tag": "ABX9TyPtsd7d9mZ7GIL8ZL5HU6Pw",
      "include_colab_link": true
    },
    "kernelspec": {
      "name": "python3",
      "display_name": "Python 3"
    },
    "language_info": {
      "name": "python"
    }
  },
  "cells": [
    {
      "cell_type": "markdown",
      "metadata": {
        "id": "view-in-github",
        "colab_type": "text"
      },
      "source": [
        "<a href=\"https://colab.research.google.com/github/HrideshSingh/MachineLearningLab/blob/main/Find_S(Lab1).ipynb\" target=\"_parent\"><img src=\"https://colab.research.google.com/assets/colab-badge.svg\" alt=\"Open In Colab\"/></a>"
      ]
    },
    {
      "cell_type": "markdown",
      "metadata": {
        "id": "vlDPcbxsnWd2"
      },
      "source": [
        "EconomyCar"
      ]
    },
    {
      "cell_type": "code",
      "metadata": {
        "colab": {
          "base_uri": "https://localhost:8080/"
        },
        "id": "BxTs6hsNhh6r",
        "outputId": "f30699ec-071f-401d-d105-0744ed87c6f3"
      },
      "source": [
        "import random\n",
        "import csv\n",
        "attr = [['Japan','USA'],\n",
        "              ['Toyota','Chrysler','Honda'],\n",
        "              ['Green','Blue','Red','White'],\n",
        "              ['1970','1980','1990'],\n",
        "              ['Sports','Economy']]\n",
        "\n",
        "\n",
        "num_attr = len(attr)\n",
        "\n",
        "\n",
        "print (\" \\n The most general hypothesis : ['?','?','?','?','?','?']\\n\")\n",
        "print (\"\\n The most specific hypothesis : ['Phi','Phi','Phi','Phi','Phi','Phi']\\n\")"
      ],
      "execution_count": 21,
      "outputs": [
        {
          "output_type": "stream",
          "name": "stdout",
          "text": [
            " \n",
            " The most general hypothesis : ['?','?','?','?','?','?']\n",
            "\n",
            "\n",
            " The most specific hypothesis : ['Phi','Phi','Phi','Phi','Phi','Phi']\n",
            "\n"
          ]
        }
      ]
    },
    {
      "cell_type": "code",
      "metadata": {
        "colab": {
          "base_uri": "https://localhost:8080/"
        },
        "id": "1ZYTjgz4jCin",
        "outputId": "bd95c20b-930c-4fd7-dc94-1a7c10fd78f7"
      },
      "source": [
        "a = []\n",
        "print(\"\\n The Given Training Data Set \\n\")\n",
        "\n",
        "with open('EconomyCar.csv', 'r') as csvFile:\n",
        "    reader = csv.reader(csvFile)\n",
        "    for row in reader:\n",
        "        a.append (row)\n",
        "        print(row)\n"
      ],
      "execution_count": 23,
      "outputs": [
        {
          "output_type": "stream",
          "name": "stdout",
          "text": [
            "\n",
            " The Given Training Data Set \n",
            "\n",
            "['Japan ', 'Honda', 'Blue ', '1980', 'Economy', 'Yes']\n",
            "['Japan ', 'Toyota', 'Green', '1970', 'Sports', 'No']\n",
            "['Japan ', 'Toyota', 'Blue ', '1990', 'Economy', 'Yes']\n",
            "['USA', 'Chrysler', 'Red', '1980', 'Economy', 'No']\n",
            "['Japan ', 'Honda', 'White', '1980', 'Economy', 'Yes']\n"
          ]
        }
      ]
    },
    {
      "cell_type": "code",
      "metadata": {
        "colab": {
          "base_uri": "https://localhost:8080/"
        },
        "id": "fZqkbWaSjHNM",
        "outputId": "ea5031d5-b2be-4812-eaf4-84c80bc38935"
      },
      "source": [
        "print(\"The initial value of hypothesis: \")\n",
        "hypothesis = ['Phi'] * num_attr\n",
        "print(hypothesis)"
      ],
      "execution_count": 24,
      "outputs": [
        {
          "output_type": "stream",
          "name": "stdout",
          "text": [
            "The initial value of hypothesis: \n",
            "['Phi', 'Phi', 'Phi', 'Phi', 'Phi']\n"
          ]
        }
      ]
    },
    {
      "cell_type": "code",
      "metadata": {
        "colab": {
          "base_uri": "https://localhost:8080/"
        },
        "id": "stb66_-RjOB8",
        "outputId": "2720f477-23c6-4bd8-cb39-5debdfb9d502"
      },
      "source": [
        "for j in range(0,num_attr):\n",
        "        hypothesis[j] = a[0][j];\n",
        "print(\"\\n Find S: Finding a Maximally Specific Hypothesis\\n\")\n",
        "\n",
        "for i in range(0,len(a)):\n",
        "    if a[i][num_attr]=='Yes':\n",
        "            for j in range(0,num_attr):\n",
        "                if a[i][j]!=hypothesis[j]:\n",
        "                    hypothesis[j]='?'\n",
        "                else :\n",
        "                    hypothesis[j]= a[i][j] \n",
        "    print(\" For Training Example No :{0} the hypothesis is \".format(i),hypothesis)\n",
        "                \n",
        "print(\"\\n The Maximally Specific Hypothesis for a given Training Examples :\\n\")\n",
        "print(hypothesis)\n"
      ],
      "execution_count": 25,
      "outputs": [
        {
          "output_type": "stream",
          "name": "stdout",
          "text": [
            "\n",
            " Find S: Finding a Maximally Specific Hypothesis\n",
            "\n",
            " For Training Example No :0 the hypothesis is  ['Japan ', 'Honda', 'Blue ', '1980', 'Economy']\n",
            " For Training Example No :1 the hypothesis is  ['Japan ', 'Honda', 'Blue ', '1980', 'Economy']\n",
            " For Training Example No :2 the hypothesis is  ['Japan ', '?', 'Blue ', '?', 'Economy']\n",
            " For Training Example No :3 the hypothesis is  ['Japan ', '?', 'Blue ', '?', 'Economy']\n",
            " For Training Example No :4 the hypothesis is  ['Japan ', '?', '?', '?', 'Economy']\n",
            "\n",
            " The Maximally Specific Hypothesis for a given Training Examples :\n",
            "\n",
            "['Japan ', '?', '?', '?', 'Economy']\n"
          ]
        }
      ]
    },
    {
      "cell_type": "markdown",
      "metadata": {
        "id": "GrfEit68mN9C"
      },
      "source": [
        "EnjoySport"
      ]
    },
    {
      "cell_type": "code",
      "metadata": {
        "colab": {
          "base_uri": "https://localhost:8080/"
        },
        "id": "xjqCBrKtmSS2",
        "outputId": "c66e3354-5877-4638-c069-5464a38b5145"
      },
      "source": [
        "import random\n",
        "import csv\n",
        "attr = [['Sunny','Rainy'],\n",
        "              ['Warm','Cold'],\n",
        "              ['Normal','High'],\n",
        "              ['Strong','Weak'],\n",
        "              ['Warm','Cool'],\n",
        "              ['Same','Change']]\n",
        "\n",
        "\n",
        "num_attr = len(attr)\n",
        "\n",
        "\n",
        "print (\" \\n The most general hypothesis : ['?','?','?','?','?','?']\\n\")\n",
        "print (\"\\n The most specific hypothesis : ['Phi','Phi','Phi','Phi','Phi','Phi']\\n\")\n"
      ],
      "execution_count": 18,
      "outputs": [
        {
          "output_type": "stream",
          "name": "stdout",
          "text": [
            " \n",
            " The most general hypothesis : ['?','?','?','?','?','?']\n",
            "\n",
            "\n",
            " The most specific hypothesis : ['Phi','Phi','Phi','Phi','Phi','Phi']\n",
            "\n"
          ]
        }
      ]
    },
    {
      "cell_type": "code",
      "metadata": {
        "colab": {
          "base_uri": "https://localhost:8080/"
        },
        "id": "SSyxBrBkmXu-",
        "outputId": "67f29645-5256-4e6b-ac0d-1ef1837e47fc"
      },
      "source": [
        "a = []\n",
        "print(\"\\n The Given Training Data Set \\n\")\n",
        "\n",
        "with open('EnjoySport.csv', 'r') as csvFile:\n",
        "    reader = csv.reader(csvFile)\n",
        "    for row in reader:\n",
        "        a.append (row)\n",
        "        print(row)"
      ],
      "execution_count": 19,
      "outputs": [
        {
          "output_type": "stream",
          "name": "stdout",
          "text": [
            "\n",
            " The Given Training Data Set \n",
            "\n",
            "['Sunny', 'Warm', 'Normal', 'Strong', 'Warm', 'Same', 'Yes']\n",
            "['Sunny', 'Warm', 'High', 'Strong', 'Warm', 'Same', 'Yes']\n",
            "['Rainy', 'Cold', 'High', 'Strong', 'Warm', 'Change', 'No']\n",
            "['Sunny', 'Warm', 'High', 'Strong', 'Cool', 'Change', 'Yes']\n"
          ]
        }
      ]
    },
    {
      "cell_type": "code",
      "metadata": {
        "colab": {
          "base_uri": "https://localhost:8080/"
        },
        "id": "qISA2Wm8mxpo",
        "outputId": "7eb2a80c-c08b-4cc3-87ce-27534e2829f4"
      },
      "source": [
        "print(\"The initial value of hypothesis: \")\n",
        "hypothesis = ['Phi'] * num_attr\n",
        "print(hypothesis)"
      ],
      "execution_count": null,
      "outputs": [
        {
          "output_type": "stream",
          "name": "stdout",
          "text": [
            "The initial value of hypothesis: \n",
            "['Phi', 'Phi', 'Phi', 'Phi', 'Phi', 'Phi']\n"
          ]
        }
      ]
    },
    {
      "cell_type": "code",
      "metadata": {
        "colab": {
          "base_uri": "https://localhost:8080/"
        },
        "id": "6ZFml-Pcm7dt",
        "outputId": "bc1492e5-25a2-42f1-b43f-24742fccff85"
      },
      "source": [
        "for j in range(0,num_attr):\n",
        "        hypothesis[j] = a[0][j];\n",
        "print(\"\\n Find S: Finding a Maximally Specific Hypothesis\\n\")\n",
        "\n",
        "for i in range(0,len(a)):\n",
        "    if a[i][num_attr]=='Yes':\n",
        "            for j in range(0,num_attr):\n",
        "                if a[i][j]!=hypothesis[j]:\n",
        "                    hypothesis[j]='?'\n",
        "                else :\n",
        "                    hypothesis[j]= a[i][j] \n",
        "    print(\" For Training Example No :{0} the hypothesis is \".format(i),hypothesis)\n",
        "                \n",
        "print(\"\\n The Maximally Specific Hypothesis for a given Training Examples :\\n\")\n",
        "print(hypothesis)\n"
      ],
      "execution_count": 20,
      "outputs": [
        {
          "output_type": "stream",
          "name": "stdout",
          "text": [
            "\n",
            " Find S: Finding a Maximally Specific Hypothesis\n",
            "\n",
            " For Training Example No :0 the hypothesis is  ['Sunny', 'Warm', 'Normal', 'Strong', 'Warm', 'Same']\n",
            " For Training Example No :1 the hypothesis is  ['Sunny', 'Warm', '?', 'Strong', 'Warm', 'Same']\n",
            " For Training Example No :2 the hypothesis is  ['Sunny', 'Warm', '?', 'Strong', 'Warm', 'Same']\n",
            " For Training Example No :3 the hypothesis is  ['Sunny', 'Warm', '?', 'Strong', '?', '?']\n",
            "\n",
            " The Maximally Specific Hypothesis for a given Training Examples :\n",
            "\n",
            "['Sunny', 'Warm', '?', 'Strong', '?', '?']\n"
          ]
        }
      ]
    }
  ]
}