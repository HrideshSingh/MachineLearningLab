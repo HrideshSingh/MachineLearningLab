{
  "nbformat": 4,
  "nbformat_minor": 0,
  "metadata": {
    "colab": {
      "name": "NonLinearSVM(RBF).ipynb",
      "provenance": [],
      "authorship_tag": "ABX9TyMFlytqFwMPN5I/CSTjap+8",
      "include_colab_link": true
    },
    "kernelspec": {
      "name": "python3",
      "display_name": "Python 3"
    },
    "language_info": {
      "name": "python"
    }
  },
  "cells": [
    {
      "cell_type": "markdown",
      "metadata": {
        "id": "view-in-github",
        "colab_type": "text"
      },
      "source": [
        "<a href=\"https://colab.research.google.com/github/HrideshSingh/MachineLearningLab/blob/main/NonLinearSVM(RBF).ipynb\" target=\"_parent\"><img src=\"https://colab.research.google.com/assets/colab-badge.svg\" alt=\"Open In Colab\"/></a>"
      ]
    },
    {
      "cell_type": "code",
      "metadata": {
        "id": "Ysk_LsMkyTag"
      },
      "source": [
        "import numpy as np \n",
        "import pandas as pd \n",
        "import matplotlib.pyplot as plt \n",
        "from matplotlib import style\n",
        "from sklearn.svm import SVC "
      ],
      "execution_count": 1,
      "outputs": []
    },
    {
      "cell_type": "code",
      "metadata": {
        "id": "BZYgu3mkzN2K"
      },
      "source": [
        "style.use('fivethirtyeight')"
      ],
      "execution_count": 2,
      "outputs": []
    },
    {
      "cell_type": "markdown",
      "metadata": {
        "id": "kPl-yVzszST_"
      },
      "source": [
        "# Create mesh grids"
      ]
    },
    {
      "cell_type": "code",
      "metadata": {
        "id": "PSUG7qYSzP8S"
      },
      "source": [
        "def make_meshgrid(x, y, h =.02):\n",
        "    x_min, x_max = x.min() - 1, x.max() + 1\n",
        "    y_min, y_max = y.min() - 1, y.max() + 1\n",
        "    xx, yy = np.meshgrid(np.arange(x_min, x_max, h), np.arange(y_min, y_max, h))\n",
        "    return xx, yy"
      ],
      "execution_count": 3,
      "outputs": []
    },
    {
      "cell_type": "markdown",
      "metadata": {
        "id": "hsvbDYKizYZK"
      },
      "source": [
        "# Plot the contours"
      ]
    },
    {
      "cell_type": "code",
      "metadata": {
        "id": "99PZ1N5hzcji"
      },
      "source": [
        "def plot_contours(ax, clf, xx, yy, **params):\n",
        "    Z = clf.predict(np.c_[xx.ravel(), yy.ravel()])\n",
        "    Z = Z.reshape(xx.shape)\n",
        "    out = ax.contourf(xx, yy, Z, **params)\n",
        "    return out\n",
        "  \n",
        "color = ['r', 'b', 'g', 'k']\n",
        "  \n",
        "iris = pd.read_csv(\"Iris.csv\").values\n",
        "  \n",
        "  \n",
        "features = iris[0:150, 2:4]\n",
        "level1 = np.zeros(150)\n",
        "level2 = np.zeros(150)\n",
        "level3 = np.zeros(150)\n",
        "\n",
        "# level1 contains 1 for class1 and 0 for all others.\n",
        "# level2 contains 1 for class2 and 0 for all others.\n",
        "# level3 contains 1 for class3 and 0 for all others.\n",
        "\n",
        "for i in range(150):\n",
        "    if i>= 0 and i<50:\n",
        "        level1[i] = 1\n",
        "    elif i>= 50 and i<100:\n",
        "        level2[i] = 1\n",
        "    elif i>= 100 and i<150:\n",
        "        level3[i]= 1"
      ],
      "execution_count": 4,
      "outputs": []
    },
    {
      "cell_type": "markdown",
      "metadata": {
        "id": "K6NWSyIy1KpB"
      },
      "source": [
        "# create 3 svm with rbf kernels"
      ]
    },
    {
      "cell_type": "code",
      "metadata": {
        "id": "s0HlM7wb1KXQ"
      },
      "source": [
        "svm1 = SVC(kernel ='rbf')\n",
        "svm2 = SVC(kernel ='rbf')\n",
        "svm3 = SVC(kernel ='rbf')"
      ],
      "execution_count": 5,
      "outputs": []
    },
    {
      "cell_type": "markdown",
      "metadata": {
        "id": "xq7GNrJbzfon"
      },
      "source": [
        "# fit each svm's"
      ]
    },
    {
      "cell_type": "code",
      "metadata": {
        "colab": {
          "base_uri": "https://localhost:8080/",
          "height": 287
        },
        "id": "zaljiHC71V9n",
        "outputId": "edff6ad0-c9fe-424a-aef3-dfd75c689f19"
      },
      "source": [
        "svm1.fit(features, level1)\n",
        "svm2.fit(features, level2)\n",
        "svm3.fit(features, level3)\n",
        "\n",
        "fig, ax = plt.subplots()\n",
        "X0, X1 = iris[:, 2], iris[:, 3]\n",
        "xx, yy = make_meshgrid(X0, X1)"
      ],
      "execution_count": 6,
      "outputs": [
        {
          "output_type": "display_data",
          "data": {
            "image/png": "[encoded data removed]",
            "text/plain": [
              "<Figure size 432x288 with 1 Axes>"
            ]
          },
          "metadata": {}
        }
      ]
    },
    {
      "cell_type": "markdown",
      "metadata": {
        "id": "exQR9JP55aol"
      },
      "source": [
        "# plot the contours"
      ]
    },
    {
      "cell_type": "code",
      "metadata": {
        "colab": {
          "base_uri": "https://localhost:8080/",
          "height": 282
        },
        "id": "Wj3i-WK25YE-",
        "outputId": "7fa833cf-36f9-4547-e7b7-006a751cfa3e"
      },
      "source": [
        "plot_contours(ax, svm1, xx, yy, cmap = plt.get_cmap('hot'), alpha = 0.8)\n",
        "plot_contours(ax, svm2, xx, yy, cmap = plt.get_cmap('hot'), alpha = 0.3)\n",
        "plot_contours(ax, svm3, xx, yy, cmap = plt.get_cmap('hot'), alpha = 0.5)\n",
        "\n",
        "color = ['r', 'b', 'g', 'k']\n",
        "  \n",
        "for i in range(len(iris)):\n",
        "    plt.scatter(iris[i][2], iris[i][3], s = 30, c = color[int(iris[i][4])])\n",
        "plt.show()  "
      ],
      "execution_count": 7,
      "outputs": [
        {
          "output_type": "display_data",
          "data": {
            "image/png": "[encoded data removed]",
            "text/plain": [
              "<Figure size 432x288 with 1 Axes>"
            ]
          },
          "metadata": {}
        }
      ]
    }
  ]
}