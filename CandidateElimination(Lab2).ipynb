{
  "nbformat": 4,
  "nbformat_minor": 0,
  "metadata": {
    "colab": {
      "name": "CandidateElimination(Lab2).ipynb",
      "provenance": [],
      "collapsed_sections": [],
      "authorship_tag": "ABX9TyMxJS2i5U489kOSam28jaE3",
      "include_colab_link": true
    },
    "kernelspec": {
      "name": "python3",
      "display_name": "Python 3"
    },
    "language_info": {
      "name": "python"
    }
  },
  "cells": [
    {
      "cell_type": "markdown",
      "metadata": {
        "id": "view-in-github",
        "colab_type": "text"
      },
      "source": [
        "<a href=\"https://colab.research.google.com/github/HrideshSingh/MachineLearningLab/blob/main/CandidateElimination(Lab2).ipynb\" target=\"_parent\"><img src=\"https://colab.research.google.com/assets/colab-badge.svg\" alt=\"Open In Colab\"/></a>"
      ]
    },
    {
      "cell_type": "markdown",
      "metadata": {
        "id": "xuMr9PQWtvKb"
      },
      "source": [
        "**EconomyCar**"
      ]
    },
    {
      "cell_type": "code",
      "metadata": {
        "colab": {
          "base_uri": "https://localhost:8080/"
        },
        "id": "kz55Qyu0rnVk",
        "outputId": "e8e21a78-53c7-4558-cb50-618a5c080f64"
      },
      "source": [
        "import csv \n",
        "\n",
        "with open('EconomyCar.csv') as csvFile: \n",
        "\n",
        "    examples = [tuple(line) for line in csv.reader(csvFile)] \n",
        "\n",
        "print(examples) "
      ],
      "execution_count": null,
      "outputs": [
        {
          "output_type": "stream",
          "name": "stdout",
          "text": [
            "[('Japan ', 'Honda', 'Blue ', '1980', 'Economy', 'Yes'), ('Japan ', 'Toyota', 'Green', '1970', 'Sports', 'No'), ('Japan ', 'Toyota', 'Blue ', '1990', 'Economy', 'Yes'), ('USA', 'Chrysler', 'Red', '1980', 'Economy', 'No'), ('Japan ', 'Honda', 'White', '1980', 'Economy', 'Yes')]\n"
          ]
        }
      ]
    },
    {
      "cell_type": "code",
      "metadata": {
        "colab": {
          "base_uri": "https://localhost:8080/"
        },
        "id": "FCBVGhJes5YZ",
        "outputId": "346a6727-90b7-423c-d540-7a3d9634622e"
      },
      "source": [
        "def get_domains(examples):\n",
        "    d = [set() for i in examples[0]] \n",
        "    for x in examples:\n",
        "        for i, xi in enumerate(x):\n",
        "            d[i].add(xi)\n",
        "    return [list(sorted(x)) for x in d]\n",
        "get_domains(examples)\n"
      ],
      "execution_count": null,
      "outputs": [
        {
          "output_type": "execute_result",
          "data": {
            "text/plain": [
              "[['Japan ', 'USA'],\n",
              " ['Chrysler', 'Honda', 'Toyota'],\n",
              " ['Blue ', 'Green', 'Red', 'White'],\n",
              " ['1970', '1980', '1990'],\n",
              " ['Economy', 'Sports'],\n",
              " ['No', 'Yes']]"
            ]
          },
          "metadata": {},
          "execution_count": 4
        }
      ]
    },
    {
      "cell_type": "code",
      "metadata": {
        "colab": {
          "base_uri": "https://localhost:8080/"
        },
        "id": "N0KzHm0Gs6K_",
        "outputId": "cf3af0d3-97d4-48a9-ac25-d00738a6604b"
      },
      "source": [
        "def g_0(n):\n",
        "    return ('?',)*n\n",
        "\n",
        "def s_0(n):\n",
        "    return ('Phi',)*n\n",
        "def more_general(h1, h2):\n",
        "    more_general_parts = []\n",
        "    for x, y in zip(h1, h2):\n",
        "        mg = x == '?' or (x != 'Phi' and (x == y or y == 'Phi'))\n",
        "        more_general_parts.append(mg)\n",
        "    return all(more_general_parts) \n",
        "\n",
        "def consistent(hypothesis,example):\n",
        "    return more_general(hypothesis, example)\n",
        "\n",
        "def min_generalizations(h, x):\n",
        "    h_new = list(h)\n",
        "    for i in range(len(h)):\n",
        "        if not consistent(h[i:i+1],x[i:i+1]):\n",
        "            if h[i] != 'Phi':\n",
        "                h_new[i] = '?'\n",
        "            else:\n",
        "                h_new[i] = x[i]\n",
        "    return [tuple(h_new)]\n",
        "\n",
        "def generalize_S(x, G, S):\n",
        "    S_prev = list(S)\n",
        "    for s in S_prev:\n",
        "        if s not in S:\n",
        "            continue\n",
        "        if not consistent(s,x):\n",
        "            S.remove(s)\n",
        "            Splus = min_generalizations(s, x)\n",
        "            S.update([h for h in Splus if any([more_general(g,h) \n",
        "                                               for g in G])])\n",
        "\n",
        "            S.difference_update([h for h in S if \n",
        "                                 any([more_general(h, h1) \n",
        "                                      for h1 in S if h != h1])])\n",
        "    return S\n",
        "\n",
        "def min_specializations(h, domains, x):\n",
        "    results = []\n",
        "    for i in range(len(h)):\n",
        "        if h[i] == '?':\n",
        "            for val in domains[i]:\n",
        "                if x[i] != val:\n",
        "                    h_new = h[:i] + (val,) + h[i+1:]\n",
        "                    results.append(h_new)\n",
        "        elif h[i] != 'Phi':\n",
        "            h_new = h[:i] + ('Phi',) + h[i+1:]\n",
        "            results.append(h_new)\n",
        "    return results\n",
        "\n",
        "def specialize_G(x, domains, G, S):\n",
        "    G_prev = list(G)\n",
        "    for g in G_prev:\n",
        "        if g not in G:\n",
        "            continue\n",
        "        if consistent(g,x):\n",
        "            G.remove(g)\n",
        "            Gminus = min_specializations(g, domains, x)\n",
        "            G.update([h for h in Gminus if any([more_general(h, s)\n",
        "                                                for s in S])])\n",
        "            G.difference_update([h for h in G if \n",
        "                                 any([more_general(g1, h) \n",
        "                                      for g1 in G if h != g1])])\n",
        "    return G\n",
        "\n",
        "def candidate_elimination(examples):\n",
        "    domains = get_domains(examples)[:-1] \n",
        "    \n",
        "    G = set([g_0(len(domains))])\n",
        "    S = set([s_0(len(domains))])\n",
        "    i=0\n",
        "    print('All the hypotheses in General and Specific boundary are:\\n')\n",
        "    print('\\n G[{0}]:'.format(i),G)\n",
        "    print('\\n S[{0}]:'.format(i),S)\n",
        "    for xcx in examples:\n",
        "        i=i+1\n",
        "        x, cx = xcx[:-1], xcx[-1]  \n",
        "        if cx=='Yes': \n",
        "            G = {g for g in G if consistent(g,x)}\n",
        "            S = generalize_S(x, G, S)\n",
        "        else: \n",
        "            S = {s for s in S if not consistent(s,x)}\n",
        "            G = specialize_G(x, domains, G, S)\n",
        "        print('\\n G[{0}]:'.format(i),G)\n",
        "        print('\\n S[{0}]:'.format(i),S)\n",
        "    return\n",
        "    \n",
        "candidate_elimination(examples)"
      ],
      "execution_count": null,
      "outputs": [
        {
          "output_type": "stream",
          "name": "stdout",
          "text": [
            "All the hypotheses in General and Specific boundary are:\n",
            "\n",
            "\n",
            " G[0]: {('?', '?', '?', '?', '?')}\n",
            "\n",
            " S[0]: {('Phi', 'Phi', 'Phi', 'Phi', 'Phi')}\n",
            "\n",
            " G[1]: {('?', '?', '?', '?', '?')}\n",
            "\n",
            " S[1]: {('Japan ', 'Honda', 'Blue ', '1980', 'Economy')}\n",
            "\n",
            " G[2]: {('?', '?', 'Blue ', '?', '?'), ('?', '?', '?', '1980', '?'), ('?', 'Honda', '?', '?', '?'), ('?', '?', '?', '?', 'Economy')}\n",
            "\n",
            " S[2]: {('Japan ', 'Honda', 'Blue ', '1980', 'Economy')}\n",
            "\n",
            " G[3]: {('?', '?', 'Blue ', '?', '?'), ('?', '?', '?', '?', 'Economy')}\n",
            "\n",
            " S[3]: {('Japan ', '?', 'Blue ', '?', 'Economy')}\n",
            "\n",
            " G[4]: {('Japan ', '?', '?', '?', 'Economy'), ('?', '?', 'Blue ', '?', '?')}\n",
            "\n",
            " S[4]: {('Japan ', '?', 'Blue ', '?', 'Economy')}\n",
            "\n",
            " G[5]: {('Japan ', '?', '?', '?', 'Economy')}\n",
            "\n",
            " S[5]: {('Japan ', '?', '?', '?', 'Economy')}\n"
          ]
        }
      ]
    },
    {
      "cell_type": "markdown",
      "metadata": {
        "id": "TCBad-gvt3mg"
      },
      "source": [
        "**EnjoySport**"
      ]
    },
    {
      "cell_type": "code",
      "metadata": {
        "id": "cLZl-tfEt5u3"
      },
      "source": [
        ""
      ],
      "execution_count": null,
      "outputs": []
    },
    {
      "cell_type": "code",
      "metadata": {
        "colab": {
          "base_uri": "https://localhost:8080/"
        },
        "id": "ck-zaNCct8y0",
        "outputId": "854bf8ff-4fcd-430d-9012-84246d017d93"
      },
      "source": [
        "import csv \n",
        "\n",
        "with open('EnjoySport.csv') as csvFile: \n",
        "\n",
        "    examples = [tuple(line) for line in csv.reader(csvFile)] \n",
        "\n",
        "print(examples) "
      ],
      "execution_count": null,
      "outputs": [
        {
          "output_type": "stream",
          "name": "stdout",
          "text": [
            "[('Sunny', 'Warm', 'Normal', 'Strong', 'Warm', 'Same', 'Yes'), ('Sunny', 'Warm', 'High', 'Strong', 'Warm', 'Same', 'Yes'), ('Rainy', 'Cold', 'High', 'Strong', 'Warm', 'Change', 'No'), ('Sunny', 'Warm', 'High', 'Strong', 'Cool', 'Change', 'Yes')]\n"
          ]
        }
      ]
    },
    {
      "cell_type": "code",
      "metadata": {
        "colab": {
          "base_uri": "https://localhost:8080/"
        },
        "id": "f7upGSM-uBwA",
        "outputId": "331a04f9-93f3-4c51-82c0-7a43149cdfce"
      },
      "source": [
        "def get_domains(examples):\n",
        "    d = [set() for i in examples[0]] \n",
        "    for x in examples:\n",
        "        for i, xi in enumerate(x):\n",
        "            d[i].add(xi)\n",
        "    return [list(sorted(x)) for x in d]\n",
        "get_domains(examples)\n"
      ],
      "execution_count": null,
      "outputs": [
        {
          "output_type": "execute_result",
          "data": {
            "text/plain": [
              "[['Rainy', 'Sunny'],\n",
              " ['Cold', 'Warm'],\n",
              " ['High', 'Normal'],\n",
              " ['Strong'],\n",
              " ['Cool', 'Warm'],\n",
              " ['Change', 'Same'],\n",
              " ['No', 'Yes']]"
            ]
          },
          "metadata": {},
          "execution_count": 8
        }
      ]
    },
    {
      "cell_type": "code",
      "metadata": {
        "colab": {
          "base_uri": "https://localhost:8080/"
        },
        "id": "rA-ufPTcuCjI",
        "outputId": "e8aa6fa1-128a-4069-9167-77dcc01f4b20"
      },
      "source": [
        "def g_0(n):\n",
        "    return ('?',)*n\n",
        "\n",
        "def s_0(n):\n",
        "    return ('Phi',)*n\n",
        "def more_general(h1, h2):\n",
        "    more_general_parts = []\n",
        "    for x, y in zip(h1, h2):\n",
        "        mg = x == '?' or (x != 'Phi' and (x == y or y == 'Phi'))\n",
        "        more_general_parts.append(mg)\n",
        "    return all(more_general_parts) \n",
        "\n",
        "def consistent(hypothesis,example):\n",
        "    return more_general(hypothesis, example)\n",
        "\n",
        "def min_generalizations(h, x):\n",
        "    h_new = list(h)\n",
        "    for i in range(len(h)):\n",
        "        if not consistent(h[i:i+1],x[i:i+1]):\n",
        "            if h[i] != 'Phi':\n",
        "                h_new[i] = '?'\n",
        "            else:\n",
        "                h_new[i] = x[i]\n",
        "    return [tuple(h_new)]\n",
        "\n",
        "def generalize_S(x, G, S):\n",
        "    S_prev = list(S)\n",
        "    for s in S_prev:\n",
        "        if s not in S:\n",
        "            continue\n",
        "        if not consistent(s,x):\n",
        "            S.remove(s)\n",
        "            Splus = min_generalizations(s, x)\n",
        "            S.update([h for h in Splus if any([more_general(g,h) \n",
        "                                               for g in G])])\n",
        "\n",
        "            S.difference_update([h for h in S if \n",
        "                                 any([more_general(h, h1) \n",
        "                                      for h1 in S if h != h1])])\n",
        "    return S\n",
        "\n",
        "def min_specializations(h, domains, x):\n",
        "    results = []\n",
        "    for i in range(len(h)):\n",
        "        if h[i] == '?':\n",
        "            for val in domains[i]:\n",
        "                if x[i] != val:\n",
        "                    h_new = h[:i] + (val,) + h[i+1:]\n",
        "                    results.append(h_new)\n",
        "        elif h[i] != 'Phi':\n",
        "            h_new = h[:i] + ('Phi',) + h[i+1:]\n",
        "            results.append(h_new)\n",
        "    return results\n",
        "\n",
        "def specialize_G(x, domains, G, S):\n",
        "    G_prev = list(G)\n",
        "    for g in G_prev:\n",
        "        if g not in G:\n",
        "            continue\n",
        "        if consistent(g,x):\n",
        "            G.remove(g)\n",
        "            Gminus = min_specializations(g, domains, x)\n",
        "            G.update([h for h in Gminus if any([more_general(h, s)\n",
        "                                                for s in S])])\n",
        "            G.difference_update([h for h in G if \n",
        "                                 any([more_general(g1, h) \n",
        "                                      for g1 in G if h != g1])])\n",
        "    return G\n",
        "\n",
        "def candidate_elimination(examples):\n",
        "    domains = get_domains(examples)[:-1] \n",
        "    \n",
        "    G = set([g_0(len(domains))])\n",
        "    S = set([s_0(len(domains))])\n",
        "    i=0\n",
        "    print('All the hypotheses in General and Specific boundary are:\\n')\n",
        "    print('\\n G[{0}]:'.format(i),G)\n",
        "    print('\\n S[{0}]:'.format(i),S)\n",
        "    for xcx in examples:\n",
        "        i=i+1\n",
        "        x, cx = xcx[:-1], xcx[-1]  \n",
        "        if cx=='Yes': \n",
        "            G = {g for g in G if consistent(g,x)}\n",
        "            S = generalize_S(x, G, S)\n",
        "        else: \n",
        "            S = {s for s in S if not consistent(s,x)}\n",
        "            G = specialize_G(x, domains, G, S)\n",
        "        print('\\n G[{0}]:'.format(i),G)\n",
        "        print('\\n S[{0}]:'.format(i),S)\n",
        "    return\n",
        "    \n",
        "candidate_elimination(examples)"
      ],
      "execution_count": null,
      "outputs": [
        {
          "output_type": "stream",
          "name": "stdout",
          "text": [
            "All the hypotheses in General and Specific boundary are:\n",
            "\n",
            "\n",
            " G[0]: {('?', '?', '?', '?', '?', '?')}\n",
            "\n",
            " S[0]: {('Phi', 'Phi', 'Phi', 'Phi', 'Phi', 'Phi')}\n",
            "\n",
            " G[1]: {('?', '?', '?', '?', '?', '?')}\n",
            "\n",
            " S[1]: {('Sunny', 'Warm', 'Normal', 'Strong', 'Warm', 'Same')}\n",
            "\n",
            " G[2]: {('?', '?', '?', '?', '?', '?')}\n",
            "\n",
            " S[2]: {('Sunny', 'Warm', '?', 'Strong', 'Warm', 'Same')}\n",
            "\n",
            " G[3]: {('?', 'Warm', '?', '?', '?', '?'), ('Sunny', '?', '?', '?', '?', '?'), ('?', '?', '?', '?', '?', 'Same')}\n",
            "\n",
            " S[3]: {('Sunny', 'Warm', '?', 'Strong', 'Warm', 'Same')}\n",
            "\n",
            " G[4]: {('?', 'Warm', '?', '?', '?', '?'), ('Sunny', '?', '?', '?', '?', '?')}\n",
            "\n",
            " S[4]: {('Sunny', 'Warm', '?', 'Strong', '?', '?')}\n"
          ]
        }
      ]
    }
  ]
}