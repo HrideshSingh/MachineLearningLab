{
  "nbformat": 4,
  "nbformat_minor": 0,
  "metadata": {
    "colab": {
      "name": "Randomforest.ipynb",
      "provenance": [],
      "collapsed_sections": [],
      "authorship_tag": "ABX9TyNA44yYukYtMFIG6z+tVsZ0",
      "include_colab_link": true
    },
    "kernelspec": {
      "name": "python3",
      "display_name": "Python 3"
    },
    "language_info": {
      "name": "python"
    }
  },
  "cells": [
    {
      "cell_type": "markdown",
      "metadata": {
        "id": "view-in-github",
        "colab_type": "text"
      },
      "source": [
        "<a href=\"https://colab.research.google.com/github/HrideshSingh/MachineLearningLab/blob/main/Randomforest.ipynb\" target=\"_parent\"><img src=\"https://colab.research.google.com/assets/colab-badge.svg\" alt=\"Open In Colab\"/></a>"
      ]
    },
    {
      "cell_type": "markdown",
      "metadata": {
        "id": "KH61PZgmm27d"
      },
      "source": [
        "# Implementation of Random Forest Algorithm\n",
        "\n"
      ]
    },
    {
      "cell_type": "code",
      "metadata": {
        "colab": {
          "base_uri": "https://localhost:8080/",
          "height": 0
        },
        "id": "BDKgnoJ5mqOR",
        "outputId": "a50481a4-989a-4e71-ff5b-6c8f4b8e4b2c"
      },
      "source": [
        "import numpy as nm  \n",
        "import matplotlib.pyplot as mtp  \n",
        "import pandas as pd  \n",
        "\n",
        "data_set= pd.read_csv('Social_Network_Ads.csv')  \n",
        "\n",
        "print(data_set)\n"
      ],
      "execution_count": 7,
      "outputs": [
        {
          "output_type": "stream",
          "name": "stdout",
          "text": [
            "      User ID  Gender  Age  EstimatedSalary  Purchased\n",
            "0    15624510    Male   19            19000          0\n",
            "1    15810944    Male   35            20000          0\n",
            "2    15668575  Female   26            43000          0\n",
            "3    15603246  Female   27            57000          0\n",
            "4    15804002    Male   19            76000          0\n",
            "..        ...     ...  ...              ...        ...\n",
            "395  15691863  Female   46            41000          1\n",
            "396  15706071    Male   51            23000          1\n",
            "397  15654296  Female   50            20000          1\n",
            "398  15755018    Male   36            33000          0\n",
            "399  15594041  Female   49            36000          1\n",
            "\n",
            "[400 rows x 5 columns]\n"
          ]
        }
      ]
    },
    {
      "cell_type": "markdown",
      "metadata": {
        "id": "4RI8H-LTnP-w"
      },
      "source": [
        "# Extracting Independent and dependent Variable"
      ]
    },
    {
      "cell_type": "code",
      "metadata": {
        "id": "3pO8LjaTnIq1"
      },
      "source": [
        "x= data_set.iloc[:, [2,3]].values  \n",
        "y= data_set.iloc[:, 4].values  "
      ],
      "execution_count": 8,
      "outputs": []
    },
    {
      "cell_type": "markdown",
      "metadata": {
        "id": "_sOgea5tnamR"
      },
      "source": [
        "# Splitting the dataset into training and test set.  "
      ]
    },
    {
      "cell_type": "code",
      "metadata": {
        "id": "KC5H3yZpnVCo"
      },
      "source": [
        "from sklearn.model_selection import train_test_split  \n",
        "x_train, x_test, y_train, y_test= train_test_split(x, y, test_size= 0.25, random_state=0) "
      ],
      "execution_count": 9,
      "outputs": []
    },
    {
      "cell_type": "markdown",
      "metadata": {
        "id": "QaGJDQr2nkbH"
      },
      "source": [
        "# Feature Scaling"
      ]
    },
    {
      "cell_type": "code",
      "metadata": {
        "id": "GhYkqZKEnhgv"
      },
      "source": [
        "from sklearn.preprocessing import StandardScaler    \n",
        "st_x= StandardScaler()    \n",
        "x_train= st_x.fit_transform(x_train)    \n",
        "x_test= st_x.transform(x_test)    "
      ],
      "execution_count": 10,
      "outputs": []
    },
    {
      "cell_type": "markdown",
      "metadata": {
        "id": "3GmtQ3HkrddO"
      },
      "source": [
        "#Fitting the Random Forest algorithm to the training set:\n"
      ]
    },
    {
      "cell_type": "code",
      "metadata": {
        "colab": {
          "base_uri": "https://localhost:8080/",
          "height": 0
        },
        "id": "SOgZsJN-7fsj",
        "outputId": "c4d37e5c-a6b1-4e96-a336-79bbb94be4b2"
      },
      "source": [
        "from sklearn.ensemble import RandomForestClassifier  \n",
        "classifier= RandomForestClassifier(n_estimators= 10, criterion=\"entropy\")\n",
        "classifier.fit(x_train, y_train)  "
      ],
      "execution_count": 11,
      "outputs": [
        {
          "output_type": "execute_result",
          "data": {
            "text/plain": [
              "RandomForestClassifier(bootstrap=True, ccp_alpha=0.0, class_weight=None,\n",
              "                       criterion='entropy', max_depth=None, max_features='auto',\n",
              "                       max_leaf_nodes=None, max_samples=None,\n",
              "                       min_impurity_decrease=0.0, min_impurity_split=None,\n",
              "                       min_samples_leaf=1, min_samples_split=2,\n",
              "                       min_weight_fraction_leaf=0.0, n_estimators=10,\n",
              "                       n_jobs=None, oob_score=False, random_state=None,\n",
              "                       verbose=0, warm_start=False)"
            ]
          },
          "metadata": {},
          "execution_count": 11
        }
      ]
    },
    {
      "cell_type": "markdown",
      "metadata": {
        "id": "KroPOwx97-V-"
      },
      "source": [
        "# Predicting the Test Set result"
      ]
    },
    {
      "cell_type": "code",
      "metadata": {
        "id": "o44grCiR7uVy"
      },
      "source": [
        "y_pred= classifier.predict(x_test)  "
      ],
      "execution_count": 12,
      "outputs": []
    },
    {
      "cell_type": "markdown",
      "metadata": {
        "id": "biq4DVj377YP"
      },
      "source": [
        "# Creating the Confusion Matrix"
      ]
    },
    {
      "cell_type": "code",
      "metadata": {
        "id": "QY3a6jzu7wc0"
      },
      "source": [
        "from sklearn.metrics import confusion_matrix  \n",
        "cm= confusion_matrix(y_test, y_pred)  "
      ],
      "execution_count": 13,
      "outputs": []
    },
    {
      "cell_type": "markdown",
      "metadata": {
        "id": "Cltt-F6p72KX"
      },
      "source": [
        "# Visualizing the training Set result"
      ]
    },
    {
      "cell_type": "code",
      "metadata": {
        "colab": {
          "base_uri": "https://localhost:8080/",
          "height": 349
        },
        "id": "ky5D3tLH7zUR",
        "outputId": "3e5a7738-f251-4065-b373-294fd36619e1"
      },
      "source": [
        "from matplotlib.colors import ListedColormap  \n",
        "x_set, y_set = x_train, y_train  \n",
        "x1, x2 = nm.meshgrid(nm.arange(start = x_set[:, 0].min() - 1, stop = x_set[:, 0].max() + 1, step  =0.01),  \n",
        "nm.arange(start = x_set[:, 1].min() - 1, stop = x_set[:, 1].max() + 1, step = 0.01))  \n",
        "mtp.contourf(x1, x2, classifier.predict(nm.array([x1.ravel(), x2.ravel()]).T).reshape(x1.shape),  \n",
        "alpha = 0.75, cmap = ListedColormap(('purple','green' )))  \n",
        "mtp.xlim(x1.min(), x1.max())  \n",
        "mtp.ylim(x2.min(), x2.max())  \n",
        "for i, j in enumerate(nm.unique(y_set)):  \n",
        "    mtp.scatter(x_set[y_set == j, 0], x_set[y_set == j, 1],  \n",
        "        c = ListedColormap(('purple', 'green'))(i), label = j)  \n",
        "mtp.title('Random Forest Algorithm (Training set)')  \n",
        "mtp.xlabel('Age')  \n",
        "mtp.ylabel('Estimated Salary')  \n",
        "mtp.legend()  \n",
        "mtp.show()  "
      ],
      "execution_count": 14,
      "outputs": [
        {
          "output_type": "stream",
          "name": "stderr",
          "text": [
            "*c* argument looks like a single numeric RGB or RGBA sequence, which should be avoided as value-mapping will have precedence in case its length matches with *x* & *y*.  Please use the *color* keyword-argument or provide a 2-D array with a single row if you intend to specify the same RGB or RGBA value for all points.\n",
            "*c* argument looks like a single numeric RGB or RGBA sequence, which should be avoided as value-mapping will have precedence in case its length matches with *x* & *y*.  Please use the *color* keyword-argument or provide a 2-D array with a single row if you intend to specify the same RGB or RGBA value for all points.\n"
          ]
        },
        {
          "output_type": "display_data",
          "data": {
            "image/png": "[encoded data removed]",
            "text/plain": [
              "<Figure size 432x288 with 1 Axes>"
            ]
          },
          "metadata": {
            "needs_background": "light"
          }
        }
      ]
    }
  ]
}